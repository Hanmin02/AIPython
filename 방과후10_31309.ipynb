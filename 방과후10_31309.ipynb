{
  "nbformat": 4,
  "nbformat_minor": 0,
  "metadata": {
    "colab": {
      "name": "방과후10_31309.ipynb",
      "provenance": [],
      "authorship_tag": "ABX9TyMBTOTotvoSVW0s6iZyf7j7",
      "include_colab_link": true
    },
    "kernelspec": {
      "name": "python3",
      "display_name": "Python 3"
    }
  },
  "cells": [
    {
      "cell_type": "markdown",
      "metadata": {
        "id": "view-in-github",
        "colab_type": "text"
      },
      "source": [
        "<a href=\"https://colab.research.google.com/github/Hanmin02/AIPython/blob/master/%EB%B0%A9%EA%B3%BC%ED%9B%8410_31309.ipynb\" target=\"_parent\"><img src=\"https://colab.research.google.com/assets/colab-badge.svg\" alt=\"Open In Colab\"/></a>"
      ]
    },
    {
      "cell_type": "markdown",
      "metadata": {
        "id": "Mw3ZI-lC20h3",
        "colab_type": "text"
      },
      "source": [
        "#Keras AI"
      ]
    },
    {
      "cell_type": "code",
      "metadata": {
        "id": "7-9CI-nAEIlq",
        "colab_type": "code",
        "colab": {
          "base_uri": "https://localhost:8080/",
          "height": 35
        },
        "outputId": "6bbb9d74-69b5-4e74-c9ce-47e3f00ecda1"
      },
      "source": [
        "print('Hello Github')"
      ],
      "execution_count": 2,
      "outputs": [
        {
          "output_type": "stream",
          "text": [
            "Hello Github\n"
          ],
          "name": "stdout"
        }
      ]
    }
  ]
}